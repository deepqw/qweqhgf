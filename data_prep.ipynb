{
 "cells": [
  {
   "cell_type": "code",
   "execution_count": 77,
   "id": "18a5e6b3-6aef-4e64-b536-be6fe169bfc0",
   "metadata": {
    "tags": []
   },
   "outputs": [],
   "source": [
    "import torch, torchvision\n",
    "import os"
   ]
  },
  {
   "cell_type": "code",
   "execution_count": 70,
   "id": "60ebf0a4-d981-4a34-a2bb-4cdac99a5565",
   "metadata": {
    "tags": []
   },
   "outputs": [],
   "source": [
    "files = os.walk('journey-springfield/train/simpsons_dataset')"
   ]
  },
  {
   "cell_type": "code",
   "execution_count": 71,
   "id": "95a1159a-3fa2-449f-a010-3861621c1c2b",
   "metadata": {
    "tags": []
   },
   "outputs": [],
   "source": [
    "paths = []"
   ]
  },
  {
   "cell_type": "code",
   "execution_count": 72,
   "id": "5df14b61-ad56-4016-9d43-c465f5a2703d",
   "metadata": {
    "tags": []
   },
   "outputs": [],
   "source": [
    "count = 0"
   ]
  },
  {
   "cell_type": "code",
   "execution_count": 75,
   "id": "e79d2b7e-01f1-4351-8951-08e7a9656ae9",
   "metadata": {
    "tags": []
   },
   "outputs": [],
   "source": [
    "def add(x):\n",
    "    return dir_path + '/' + x"
   ]
  },
  {
   "cell_type": "code",
   "execution_count": 73,
   "id": "67437156-61f9-4c1b-9001-d14fb4e2280e",
   "metadata": {
    "tags": []
   },
   "outputs": [],
   "source": [
    "for path in files:\n",
    "    count += 1\n",
    "    if count == 1:\n",
    "        continue\n",
    "    dir_path = path[0]\n",
    "    subdir_paths = path[2]\n",
    "    subdir_paths = list(map(lambda x: dir_path + '/' + x, subdir_paths))\n",
    "    paths.extend(subdir_paths)"
   ]
  },
  {
   "cell_type": "code",
   "execution_count": 94,
   "id": "8f9e7437-cc10-4c00-9d8d-61f76ee31ff3",
   "metadata": {
    "tags": []
   },
   "outputs": [],
   "source": [
    "class Dataset(torch.utils.data.Dataset):\n",
    "    def __init__(self, paths):\n",
    "        super().__init__()\n",
    "        self.paths = paths\n",
    "        \n",
    "    def __len__(self):\n",
    "        return len(self.paths)\n",
    "    \n",
    "    def __getitem__(self, ind):\n",
    "        \n",
    "        img = torchvision.io.read_image(self.paths[ind]) / 255\n",
    "        \n",
    "        transforms = torchvision.transforms.Compose([\n",
    "            torchvision.transforms.Resize((256, 256))\n",
    "        ])\n",
    "        img = transforms(img)\n",
    "        \n",
    "        return img, self.paths[ind].split('/')[-2]"
   ]
  },
  {
   "cell_type": "code",
   "execution_count": 95,
   "id": "d4feec82-bccc-4212-b808-45e3f9aff307",
   "metadata": {
    "tags": []
   },
   "outputs": [],
   "source": [
    "dataset = Dataset(paths)"
   ]
  },
  {
   "cell_type": "code",
   "execution_count": 99,
   "id": "c34c5fe5-096f-4c0b-b3b7-e13bc26dec5f",
   "metadata": {
    "tags": []
   },
   "outputs": [
    {
     "data": {
      "text/plain": [
       "torch.Size([3, 256, 256])"
      ]
     },
     "execution_count": 99,
     "metadata": {},
     "output_type": "execute_result"
    }
   ],
   "source": [
    "dataset[1234][0].shape"
   ]
  },
  {
   "cell_type": "code",
   "execution_count": 100,
   "id": "f1af9dad-8ae8-4e1a-b72b-e71845c11e13",
   "metadata": {
    "tags": []
   },
   "outputs": [],
   "source": [
    "dataloader = torch.utils.data.DataLoader(dataset, batch_size=12, shuffle=True)"
   ]
  },
  {
   "cell_type": "code",
   "execution_count": 102,
   "id": "76df3739-eac4-4f52-88d6-af864503b71d",
   "metadata": {
    "tags": []
   },
   "outputs": [
    {
     "data": {
      "text/plain": [
       "torch.Size([12, 3, 256, 256])"
      ]
     },
     "execution_count": 102,
     "metadata": {},
     "output_type": "execute_result"
    }
   ],
   "source": [
    "next(iter(dataloader))[0].shape"
   ]
  },
  {
   "cell_type": "code",
   "execution_count": null,
   "id": "1014904a-f3ad-47e1-be0b-b336ac534b15",
   "metadata": {},
   "outputs": [],
   "source": []
  }
 ],
 "metadata": {
  "kernelspec": {
   "display_name": "Python 3 (ipykernel)",
   "language": "python",
   "name": "python3"
  },
  "language_info": {
   "codemirror_mode": {
    "name": "ipython",
    "version": 3
   },
   "file_extension": ".py",
   "mimetype": "text/x-python",
   "name": "python",
   "nbconvert_exporter": "python",
   "pygments_lexer": "ipython3",
   "version": "3.10.12"
  }
 },
 "nbformat": 4,
 "nbformat_minor": 5
}
